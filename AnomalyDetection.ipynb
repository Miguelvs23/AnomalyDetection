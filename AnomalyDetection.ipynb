{
 "cells": [
  {
   "cell_type": "markdown",
   "id": "5244e84b",
   "metadata": {},
   "source": [
    "# Anomaly Detection in Finance usign Quantum Algorithms \n",
    "\n",
    "## Queremos entrenar un modelo híbrido entre redes neuronales clásicas y redes neuronales cuánticas para detectar anomalías en fraude crediticio. Para esto, usaremos el dataset que se encuentra en kaggle: https://www.kaggle.com/mlg-ulb/creditcardfraud."
   ]
  },
  {
   "cell_type": "markdown",
   "id": "30792716",
   "metadata": {},
   "source": [
    "### Con este dataset, vamos a comparar el tiempo que demora un algoritmo matemático clásico en predecir el fraude contra el mismo parámetro para nuestro algorítmo cuántico. La base del algoritmo es una red neuronal multicapas de perceptrones, con una capa dada por un circuito cuántico encontrado en el paper : W. Jiang. (2021). A co-design framework of neural networks and quantum circuits towards quantum advantage  . "
   ]
  },
  {
   "cell_type": "markdown",
   "id": "50cad826",
   "metadata": {},
   "source": [
    "### Nuestro algorítmo se basa en el ejemplo provisto por qiskit para un híbrido entre redes neuronales clásicas y cuánticas. "
   ]
  },
  {
   "cell_type": "code",
   "execution_count": 1,
   "id": "bba30677",
   "metadata": {},
   "outputs": [],
   "source": [
    "import pandas as pd \n",
    "import numpy as np \n",
    "import matplotlib.pyplot as plt \n",
    "import seaborn as sns \n",
    "from sklearn.model_selection import train_test_split\n",
    "from sklearn.preprocessing import StandardScaler\n",
    "import torch \n",
    "from torch.autograd import Variable, Function\n",
    "from torchvision import transforms\n",
    "import torch.optim as optim \n",
    "import torch.nn as nn\n",
    "import torch.nn.functional as F\n",
    "import qiskit\n",
    "from qiskit import transpile, assemble, QuantumCircuit, execute, Aer, QuantumRegister, ClassicalRegister\n",
    "from qiskit.visualization import *\n"
   ]
  },
  {
   "cell_type": "code",
   "execution_count": 2,
   "id": "d2536773",
   "metadata": {},
   "outputs": [
    {
     "data": {
      "text/plain": [
       "<AccountProvider for IBMQ(hub='ibm-q', group='open', project='main')>"
      ]
     },
     "execution_count": 2,
     "metadata": {},
     "output_type": "execute_result"
    }
   ],
   "source": [
    "from qiskit import IBMQ\n",
    "IBMQ.load_account()"
   ]
  },
  {
   "cell_type": "code",
   "execution_count": 3,
   "id": "b986b1c0",
   "metadata": {},
   "outputs": [],
   "source": [
    "import warnings\n",
    "warnings.filterwarnings('ignore')"
   ]
  },
  {
   "cell_type": "code",
   "execution_count": 17,
   "id": "e626450c",
   "metadata": {},
   "outputs": [],
   "source": [
    "class AnomalyCircuit:\n",
    "    \"\"\" \n",
    "    This class provides a simple interface for interaction \n",
    "    with the quantum circuit \n",
    "    \"\"\"\n",
    "    \n",
    "    def __init__(self, backend, shots):\n",
    "        # --- Circuit definition ---\n",
    "        n_qubits = 3\n",
    "        self._circuit = QuantumCircuit(n_qubits,1)\n",
    "        \n",
    "        \n",
    "        self.theta = qiskit.circuit.Parameter('theta')\n",
    "        #self.theta2 = qiskit.circuit.Parameter('theta2')\n",
    "        self._circuit.ry(self.theta, 0)\n",
    "        self._circuit.ry(self.theta,1)\n",
    "        self._circuit.barrier()\n",
    "        self._circuit.x(0)\n",
    "        self._circuit.h(2)\n",
    "        self._circuit.barrier()\n",
    "        self._circuit.cx(1,0)\n",
    "        self._circuit.cz(0,2)\n",
    "        self._circuit.barrier()\n",
    "        self._circuit.h(2)\n",
    "        self._circuit.x(2)\n",
    "        self._circuit.measure(2,0)\n",
    "        # ---------------------------\n",
    "\n",
    "        self.backend = backend\n",
    "        self.shots = shots\n",
    "    \n",
    "    def run(self, thetas):\n",
    "        t_qc = transpile(self._circuit,\n",
    "                         self.backend)\n",
    "        qobj = assemble(t_qc,\n",
    "                        shots=self.shots,\n",
    "                        parameter_binds = [{self.theta: theta} for theta in thetas])\n",
    "        job = self.backend.run(qobj)\n",
    "        result = job.result().get_counts()\n",
    "        try:\n",
    "            counts = np.array(list(result[0].values()))\n",
    "            states = np.array(list(result[0].keys())).astype(float)\n",
    "        except: \n",
    "            counts = np.array(list(result.values()))\n",
    "            states = np.array(list(result.keys())).astype(float)\n",
    "        # Compute probabilities for each state\n",
    "        probabilities = counts / self.shots\n",
    "        # Get state expectation\n",
    "        expectation = np.sum(states * probabilities)\n",
    "        \n",
    "        return np.array([expectation])"
   ]
  },
  {
   "cell_type": "code",
   "execution_count": 18,
   "id": "693ad30f",
   "metadata": {},
   "outputs": [
    {
     "name": "stdout",
     "output_type": "stream",
     "text": [
      "Expected value for rotation pi 0.0\n"
     ]
    },
    {
     "data": {
      "image/png": "[encoded data removed]",
      "text/plain": [
       "<Figure size 688.597x264.88 with 1 Axes>"
      ]
     },
     "execution_count": 18,
     "metadata": {},
     "output_type": "execute_result"
    }
   ],
   "source": [
    "\n",
    "simulator = qiskit.Aer.get_backend('aer_simulator')\n",
    "\n",
    "circuit = AnomalyCircuit(simulator, 100)\n",
    "print('Expected value for rotation pi {}'.format(circuit.run([np.pi])[0]))\n",
    "circuit._circuit.draw('mpl')\n"
   ]
  },
  {
   "cell_type": "code",
   "execution_count": 19,
   "id": "baaaed54",
   "metadata": {},
   "outputs": [],
   "source": [
    "class HybridFunction(Function):\n",
    "    \"\"\" Hybrid quantum - classical function definition \"\"\"\n",
    "    \n",
    "    @staticmethod\n",
    "    def forward(ctx, input, quantum_circuit, shift):\n",
    "        \"\"\" Forward pass computation \"\"\"\n",
    "        ctx.shift = shift\n",
    "        ctx.quantum_circuit = quantum_circuit\n",
    "\n",
    "        expectation_z = ctx.quantum_circuit.run(input[0].tolist())\n",
    "        result = torch.tensor([expectation_z])\n",
    "        ctx.save_for_backward(input, result)\n",
    "\n",
    "        return result\n",
    "        \n",
    "    @staticmethod\n",
    "    def backward(ctx, grad_output):\n",
    "        \"\"\" Backward pass computation \"\"\"\n",
    "        input, expectation_z = ctx.saved_tensors\n",
    "        input_list = np.array(input.tolist())\n",
    "        \n",
    "        shift_right = input_list + np.ones(input_list.shape) * ctx.shift\n",
    "        shift_left = input_list - np.ones(input_list.shape) * ctx.shift\n",
    "        \n",
    "        gradients = []\n",
    "        for i in range(len(input_list)):\n",
    "            expectation_right = ctx.quantum_circuit.run(shift_right[i])\n",
    "            expectation_left  = ctx.quantum_circuit.run(shift_left[i])\n",
    "            \n",
    "            gradient = torch.tensor([expectation_right]) - torch.tensor([expectation_left])\n",
    "            gradients.append(gradient)\n",
    "        gradients = np.array([gradients]).T\n",
    "        b = torch.tensor([gradients]).float() * grad_output.float()\n",
    "        return torch.tensor([gradients]).float() * grad_output.float(), None, None\n",
    "\n",
    "class Hybrid(nn.Module):\n",
    "    \"\"\" Hybrid quantum - classical layer definition \"\"\"\n",
    "    \n",
    "    def __init__(self, backend, shots, shift):\n",
    "        super(Hybrid, self).__init__()\n",
    "        self.quantum_circuit = AnomalyCircuit(backend, shots)\n",
    "        self.shift = shift\n",
    "        \n",
    "    def forward(self, input):\n",
    "        return HybridFunction.apply(input, self.quantum_circuit, self.shift)\n",
    "\n"
   ]
  },
  {
   "cell_type": "code",
   "execution_count": 20,
   "id": "1bf9dd61",
   "metadata": {},
   "outputs": [],
   "source": [
    "class Net(nn.Module):\n",
    "    def __init__(self):\n",
    "        super(Net, self).__init__()\n",
    "        self.lin1 = nn.Linear(30, 45)\n",
    "        self.lin2 = nn.Linear(45, 25)\n",
    "        self.dropout = nn.Dropout2d(p = 0.15)\n",
    "        self.fc1 = nn.Linear(25, 10)\n",
    "        self.fc2 = nn.Linear(10, 1)\n",
    "        self.hybrid = Hybrid(qiskit.Aer.get_backend('aer_simulator'), 100, [np.pi,np.pi/2])\n",
    "\n",
    "    def forward(self, x):\n",
    "        x = F.relu(self.lin1(x))\n",
    "        x = F.relu(self.lin2(x))\n",
    "        x = self.dropout(x)\n",
    "        x = F.relu(self.fc1(x))\n",
    "        x = self.fc2(x)\n",
    "        x = self.hybrid(x)\n",
    "        return torch.cat((x, 1 - x), -1)\n",
    "\n"
   ]
  },
  {
   "cell_type": "code",
   "execution_count": 21,
   "id": "4f6792d4",
   "metadata": {},
   "outputs": [],
   "source": [
    "\n",
    "df = pd.read_csv('creditcard.csv')\n",
    "X = df.drop(columns=['Class']).values\n",
    "y = df['Class'].values\n",
    "X_train, X_test, y_train, y_test = train_test_split(X, y, test_size=0.33, random_state=42)"
   ]
  },
  {
   "cell_type": "code",
   "execution_count": 22,
   "id": "f058d85b",
   "metadata": {},
   "outputs": [],
   "source": [
    "X_train = Variable(torch.from_numpy(X_train)).float()\n",
    "y_train = Variable(torch.from_numpy(y_train)).long()"
   ]
  },
  {
   "cell_type": "code",
   "execution_count": 23,
   "id": "c194a866",
   "metadata": {},
   "outputs": [],
   "source": [
    "model = Net()\n",
    "loss_func = nn.CrossEntropyLoss()\n",
    "optimizer = torch.optim.Adam(model.parameters(), lr = 0.001, weight_decay=0.01)"
   ]
  },
  {
   "cell_type": "code",
   "execution_count": 24,
   "id": "e9b5eddd",
   "metadata": {},
   "outputs": [],
   "source": [
    "batch_size=1\n",
    "train_ds = torch.utils.data.TensorDataset(X_train, y_train)\n",
    "train_dl = torch.utils.data.DataLoader(train_ds, batch_size=batch_size, shuffle=True)"
   ]
  },
  {
   "cell_type": "code",
   "execution_count": 25,
   "id": "7fda4262",
   "metadata": {},
   "outputs": [
    {
     "data": {
      "image/png": "[encoded data removed]",
      "text/plain": [
       "<Figure size 864x288 with 1 Axes>"
      ]
     },
     "metadata": {
      "needs_background": "light"
     },
     "output_type": "display_data"
    },
    {
     "name": "stdout",
     "output_type": "stream",
     "text": [
      "Training [100%]\tLoss: 1.2403\n"
     ]
    }
   ],
   "source": [
    "import hiddenlayer as hl\n",
    "epochs = 1\n",
    "loss_list = []\n",
    "history = hl.History()\n",
    "canvas = hl.Canvas()\n",
    "model.train()\n",
    "for epoch in range(epochs):\n",
    "    total_loss = []\n",
    "    for batch_idx, (data, target) in enumerate(train_dl):\n",
    "        optimizer.zero_grad()\n",
    "        # Forward pass\n",
    "        output = model(data)\n",
    "        # Calculating loss\n",
    "        loss = loss_func(output, target)\n",
    "        # Backward pass\n",
    "        loss.backward()\n",
    "        # Optimize the weights\n",
    "        optimizer.step()\n",
    "        if batch_idx%100 == 0:\n",
    "            print('Epoca: {}, iteración {}/{}'.format(epoch,batch_idx,len(train_dl)))\n",
    "            history.log((epoch+1, batch_idx), loss=loss)\n",
    "            with canvas:\n",
    "                canvas.draw_plot(history[\"loss\"])\n",
    "        total_loss.append(loss.item(), )\n",
    "    loss_list.append(sum(total_loss)/len(total_loss))\n",
    "    print('Training [{:.0f}%]\\tLoss: {:.4f}'.format(\n",
    "        100. * (epoch + 1) / epochs, loss_list[-1]))"
   ]
  },
  {
   "cell_type": "code",
   "execution_count": 26,
   "id": "15a8099e",
   "metadata": {},
   "outputs": [
    {
     "data": {
      "text/plain": [
       "Text(0, 0.5, 'Entropía')"
      ]
     },
     "execution_count": 26,
     "metadata": {},
     "output_type": "execute_result"
    },
    {
     "data": {
      "image/png": "[encoded data removed]",
      "text/plain": [
       "<Figure size 432x288 with 1 Axes>"
      ]
     },
     "metadata": {
      "needs_background": "light"
     },
     "output_type": "display_data"
    }
   ],
   "source": [
    "plt.plot(loss_list)\n",
    "plt.title('Convergencia de la pérdida de entropia cruzada')\n",
    "plt.xlabel('Iteraciones')\n",
    "plt.ylabel('Entropía')"
   ]
  },
  {
   "cell_type": "code",
   "execution_count": 27,
   "id": "67765b31",
   "metadata": {},
   "outputs": [],
   "source": [
    "from sklearn.metrics import average_precision_score, classification_report\n",
    "X_test = Variable(torch.from_numpy(X_test)).float()\n",
    "y_test = Variable(torch.from_numpy(y_test)).long()\n",
    "test_ds = torch.utils.data.TensorDataset(X_test, y_test)\n",
    "\n"
   ]
  },
  {
   "cell_type": "code",
   "execution_count": 28,
   "id": "ee4cae1a",
   "metadata": {},
   "outputs": [
    {
     "name": "stdout",
     "output_type": "stream",
     "text": [
      "Wall time: 36min 52s\n"
     ]
    }
   ],
   "source": [
    "%%time\n",
    "test_loader = torch.utils.data.DataLoader(test_ds, batch_size=1, shuffle=True)\n",
    "y_pred = []\n",
    "y_true = []\n",
    "model.eval()\n",
    "with torch.no_grad():\n",
    "    \n",
    "    correct = 0\n",
    "    for batch_idx, (data,target) in enumerate(test_loader):\n",
    "        output = model(data)\n",
    "        pred = output.argmax(dim=1, keepdim=True) \n",
    "        y_pred.append(pred)\n",
    "        y_true.append(target)\n",
    "        loss = loss_func(output, target)\n",
    "        total_loss.append(loss.item())\n",
    "        \n",
    "y_pred = [x.item() for x in y_pred]\n",
    "y_true = [x.item() for x in y_true]"
   ]
  },
  {
   "cell_type": "code",
   "execution_count": 29,
   "id": "713de01e",
   "metadata": {},
   "outputs": [
    {
     "name": "stdout",
     "output_type": "stream",
     "text": [
      "1.0\n"
     ]
    }
   ],
   "source": [
    "print(average_precision_score(y_pred,y_true))"
   ]
  },
  {
   "cell_type": "code",
   "execution_count": 30,
   "id": "11b07f44",
   "metadata": {},
   "outputs": [
    {
     "name": "stdout",
     "output_type": "stream",
     "text": [
      "              precision    recall  f1-score   support\n",
      "\n",
      "           0       0.00      0.00      0.00         0\n",
      "           1       1.00      0.00      0.00     93987\n",
      "\n",
      "    accuracy                           0.00     93987\n",
      "   macro avg       0.50      0.00      0.00     93987\n",
      "weighted avg       1.00      0.00      0.00     93987\n",
      "\n"
     ]
    }
   ],
   "source": [
    "print(classification_report(y_pred,y_true))"
   ]
  },
  {
   "cell_type": "code",
   "execution_count": null,
   "id": "5fb04492",
   "metadata": {},
   "outputs": [],
   "source": []
  },
  {
   "cell_type": "code",
   "execution_count": null,
   "id": "da502f9d",
   "metadata": {},
   "outputs": [],
   "source": []
  },
  {
   "cell_type": "code",
   "execution_count": null,
   "id": "3b2a1c78",
   "metadata": {},
   "outputs": [],
   "source": []
  },
  {
   "cell_type": "code",
   "execution_count": null,
   "id": "85a081c9",
   "metadata": {},
   "outputs": [],
   "source": []
  },
  {
   "cell_type": "code",
   "execution_count": null,
   "id": "ddd00dbb",
   "metadata": {},
   "outputs": [],
   "source": []
  },
  {
   "cell_type": "code",
   "execution_count": null,
   "id": "81e91946",
   "metadata": {},
   "outputs": [],
   "source": []
  },
  {
   "cell_type": "code",
   "execution_count": null,
   "id": "2589d095",
   "metadata": {},
   "outputs": [],
   "source": []
  },
  {
   "cell_type": "code",
   "execution_count": null,
   "id": "263e9f93",
   "metadata": {},
   "outputs": [],
   "source": []
  },
  {
   "cell_type": "code",
   "execution_count": null,
   "id": "c53e4f04",
   "metadata": {},
   "outputs": [],
   "source": []
  }
 ],
 "metadata": {
  "kernelspec": {
   "display_name": "Python 3 (ipykernel)",
   "language": "python",
   "name": "python3"
  },
  "language_info": {
   "codemirror_mode": {
    "name": "ipython",
    "version": 3
   },
   "file_extension": ".py",
   "mimetype": "text/x-python",
   "name": "python",
   "nbconvert_exporter": "python",
   "pygments_lexer": "ipython3",
   "version": "3.8.8"
  }
 },
 "nbformat": 4,
 "nbformat_minor": 5
}
